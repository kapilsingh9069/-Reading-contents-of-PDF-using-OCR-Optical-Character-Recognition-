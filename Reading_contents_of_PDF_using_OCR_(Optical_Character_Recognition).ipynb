{
  "nbformat": 4,
  "nbformat_minor": 0,
  "metadata": {
    "colab": {
      "name": " Reading contents of PDF using OCR (Optical Character Recognition).ipynb",
      "provenance": [],
      "collapsed_sections": [],
      "authorship_tag": "ABX9TyP2Bhoyj/BbzjyRawuLqS6a",
      "include_colab_link": true
    },
    "kernelspec": {
      "name": "python3",
      "display_name": "Python 3"
    }
  },
  "cells": [
    {
      "cell_type": "markdown",
      "metadata": {
        "id": "view-in-github",
        "colab_type": "text"
      },
      "source": [
        "<a href=\"https://colab.research.google.com/github/kapilsingh9069/Reading-contents-of-PDF-using-OCR-Optical-Character-Recognition-/blob/main/Reading_contents_of_PDF_using_OCR_(Optical_Character_Recognition).ipynb\" target=\"_parent\"><img src=\"https://colab.research.google.com/assets/colab-badge.svg\" alt=\"Open In Colab\"/></a>"
      ]
    },
    {
      "cell_type": "code",
      "metadata": {
        "id": "NcqiGt1TCHf9",
        "outputId": "c39f3959-06a6-4c78-8fb7-b443e553d44d",
        "colab": {
          "base_uri": "https://localhost:8080/"
        }
      },
      "source": [
        "!pip install tesseract"
      ],
      "execution_count": 3,
      "outputs": [
        {
          "output_type": "stream",
          "text": [
            "Collecting tesseract\n",
            "\u001b[?25l  Downloading https://files.pythonhosted.org/packages/8d/b7/c4fae9af5842f69d9c45bf1195a94aec090628535c102894552a7a7dbe6c/tesseract-0.1.3.tar.gz (45.6MB)\n",
            "\u001b[K     |████████████████████████████████| 45.6MB 90kB/s \n",
            "\u001b[?25hBuilding wheels for collected packages: tesseract\n",
            "  Building wheel for tesseract (setup.py) ... \u001b[?25l\u001b[?25hdone\n",
            "  Created wheel for tesseract: filename=tesseract-0.1.3-cp36-none-any.whl size=45562571 sha256=949557860209c67d528e6252022aac3e4d0dd7b9f0ec6814cf0e18f8b6d51686\n",
            "  Stored in directory: /root/.cache/pip/wheels/82/1f/d9/24797b123379e4ea9511cf660835468b62dad609634cad2aba\n",
            "Successfully built tesseract\n",
            "Installing collected packages: tesseract\n",
            "Successfully installed tesseract-0.1.3\n"
          ],
          "name": "stdout"
        }
      ]
    },
    {
      "cell_type": "code",
      "metadata": {
        "id": "5msMz1M8V7rA",
        "outputId": "152d1934-6214-4366-b927-4180af5d0344",
        "colab": {
          "base_uri": "https://localhost:8080/"
        }
      },
      "source": [
        "! apt install tesseract-ocr\r\n",
        "! apt install libtesseract-dev"
      ],
      "execution_count": 4,
      "outputs": [
        {
          "output_type": "stream",
          "text": [
            "Reading package lists... Done\n",
            "Building dependency tree       \n",
            "Reading state information... Done\n",
            "The following additional packages will be installed:\n",
            "  tesseract-ocr-eng tesseract-ocr-osd\n",
            "The following NEW packages will be installed:\n",
            "  tesseract-ocr tesseract-ocr-eng tesseract-ocr-osd\n",
            "0 upgraded, 3 newly installed, 0 to remove and 15 not upgraded.\n",
            "Need to get 4,795 kB of archives.\n",
            "After this operation, 15.8 MB of additional disk space will be used.\n",
            "Get:1 http://archive.ubuntu.com/ubuntu bionic/universe amd64 tesseract-ocr-eng all 4.00~git24-0e00fe6-1.2 [1,588 kB]\n",
            "Get:2 http://archive.ubuntu.com/ubuntu bionic/universe amd64 tesseract-ocr-osd all 4.00~git24-0e00fe6-1.2 [2,989 kB]\n",
            "Get:3 http://archive.ubuntu.com/ubuntu bionic/universe amd64 tesseract-ocr amd64 4.00~git2288-10f4998a-2 [218 kB]\n",
            "Fetched 4,795 kB in 3s (1,777 kB/s)\n",
            "Selecting previously unselected package tesseract-ocr-eng.\n",
            "(Reading database ... 145480 files and directories currently installed.)\n",
            "Preparing to unpack .../tesseract-ocr-eng_4.00~git24-0e00fe6-1.2_all.deb ...\n",
            "Unpacking tesseract-ocr-eng (4.00~git24-0e00fe6-1.2) ...\n",
            "Selecting previously unselected package tesseract-ocr-osd.\n",
            "Preparing to unpack .../tesseract-ocr-osd_4.00~git24-0e00fe6-1.2_all.deb ...\n",
            "Unpacking tesseract-ocr-osd (4.00~git24-0e00fe6-1.2) ...\n",
            "Selecting previously unselected package tesseract-ocr.\n",
            "Preparing to unpack .../tesseract-ocr_4.00~git2288-10f4998a-2_amd64.deb ...\n",
            "Unpacking tesseract-ocr (4.00~git2288-10f4998a-2) ...\n",
            "Setting up tesseract-ocr-osd (4.00~git24-0e00fe6-1.2) ...\n",
            "Setting up tesseract-ocr-eng (4.00~git24-0e00fe6-1.2) ...\n",
            "Setting up tesseract-ocr (4.00~git2288-10f4998a-2) ...\n",
            "Processing triggers for man-db (2.8.3-2ubuntu0.1) ...\n",
            "Reading package lists... Done\n",
            "Building dependency tree       \n",
            "Reading state information... Done\n",
            "The following additional packages will be installed:\n",
            "  libleptonica-dev\n",
            "The following NEW packages will be installed:\n",
            "  libleptonica-dev libtesseract-dev\n",
            "0 upgraded, 2 newly installed, 0 to remove and 15 not upgraded.\n",
            "Need to get 2,755 kB of archives.\n",
            "After this operation, 13.8 MB of additional disk space will be used.\n",
            "Get:1 http://archive.ubuntu.com/ubuntu bionic/universe amd64 libleptonica-dev amd64 1.75.3-3 [1,308 kB]\n",
            "Get:2 http://archive.ubuntu.com/ubuntu bionic/universe amd64 libtesseract-dev amd64 4.00~git2288-10f4998a-2 [1,447 kB]\n",
            "Fetched 2,755 kB in 3s (1,021 kB/s)\n",
            "Selecting previously unselected package libleptonica-dev.\n",
            "(Reading database ... 145527 files and directories currently installed.)\n",
            "Preparing to unpack .../libleptonica-dev_1.75.3-3_amd64.deb ...\n",
            "Unpacking libleptonica-dev (1.75.3-3) ...\n",
            "Selecting previously unselected package libtesseract-dev.\n",
            "Preparing to unpack .../libtesseract-dev_4.00~git2288-10f4998a-2_amd64.deb ...\n",
            "Unpacking libtesseract-dev (4.00~git2288-10f4998a-2) ...\n",
            "Setting up libleptonica-dev (1.75.3-3) ...\n",
            "Setting up libtesseract-dev (4.00~git2288-10f4998a-2) ...\n"
          ],
          "name": "stdout"
        }
      ]
    },
    {
      "cell_type": "code",
      "metadata": {
        "id": "qeLRtcxKV7--",
        "outputId": "4133af8b-4774-4bb5-c7cc-54ec1b7ba6ae",
        "colab": {
          "base_uri": "https://localhost:8080/"
        }
      },
      "source": [
        "! pip install Pillow\r\n",
        "! pip install pytesseract"
      ],
      "execution_count": 5,
      "outputs": [
        {
          "output_type": "stream",
          "text": [
            "Requirement already satisfied: Pillow in /usr/local/lib/python3.6/dist-packages (7.0.0)\n",
            "Collecting pytesseract\n",
            "  Downloading https://files.pythonhosted.org/packages/a0/e6/a4e9fc8a93c1318540e8de6d8d4beb5749b7960388a7c7f27799fc2dd016/pytesseract-0.3.7.tar.gz\n",
            "Requirement already satisfied: Pillow in /usr/local/lib/python3.6/dist-packages (from pytesseract) (7.0.0)\n",
            "Building wheels for collected packages: pytesseract\n",
            "  Building wheel for pytesseract (setup.py) ... \u001b[?25l\u001b[?25hdone\n",
            "  Created wheel for pytesseract: filename=pytesseract-0.3.7-py2.py3-none-any.whl size=13945 sha256=71ee9357cde07e4225983daafcf0d32af32703377019def97e523be2f03e7feb\n",
            "  Stored in directory: /root/.cache/pip/wheels/81/20/7e/1dd0daad1575d5260916bb1e9781246430647adaef4b3ca3b3\n",
            "Successfully built pytesseract\n",
            "Installing collected packages: pytesseract\n",
            "Successfully installed pytesseract-0.3.7\n"
          ],
          "name": "stdout"
        }
      ]
    },
    {
      "cell_type": "code",
      "metadata": {
        "id": "VZWGxk8nXjkX"
      },
      "source": [
        "import pytesseract\r\n",
        "from PIL import ImageEnhance, ImageFilter, Image"
      ],
      "execution_count": 6,
      "outputs": []
    },
    {
      "cell_type": "code",
      "metadata": {
        "id": "qBbhc4NmV8Cg"
      },
      "source": [
        "pytesseract.pytesseract.tesseract_cmd =r'/usr/local/bin/pytesseract'"
      ],
      "execution_count": 7,
      "outputs": []
    },
    {
      "cell_type": "code",
      "metadata": {
        "id": "e6riEezFXug9",
        "outputId": "e80b0bd9-47b9-4ee6-bc37-16cc8aae4e9c",
        "colab": {
          "base_uri": "https://localhost:8080/"
        }
      },
      "source": [
        "pip install pdf2image"
      ],
      "execution_count": 8,
      "outputs": [
        {
          "output_type": "stream",
          "text": [
            "Collecting pdf2image\n",
            "  Downloading https://files.pythonhosted.org/packages/03/62/089030fd16ab3e5c245315d63c80b29250b8f9e4579b5a09306eb7e7539c/pdf2image-1.14.0-py3-none-any.whl\n",
            "Requirement already satisfied: pillow in /usr/local/lib/python3.6/dist-packages (from pdf2image) (7.0.0)\n",
            "Installing collected packages: pdf2image\n",
            "Successfully installed pdf2image-1.14.0\n"
          ],
          "name": "stdout"
        }
      ]
    },
    {
      "cell_type": "code",
      "metadata": {
        "id": "4duIh5rHSpwO"
      },
      "source": [
        "# Import libraries \r\n",
        "from PIL import Image \r\n",
        "import pytesseract \r\n",
        "import sys \r\n",
        "from pdf2image import convert_from_path \r\n",
        "import os"
      ],
      "execution_count": null,
      "outputs": []
    },
    {
      "cell_type": "code",
      "metadata": {
        "id": "0kfGT2Chx_Go"
      },
      "source": [
        "# Path of the pdf \r\n",
        "PDF_file = \"assignment-1.2.pdf\""
      ],
      "execution_count": 2,
      "outputs": []
    },
    {
      "cell_type": "code",
      "metadata": {
        "id": "2AGt6b2jyGCG"
      },
      "source": [
        "\r\n",
        "#part 1 : Converting PDF to images \r\n",
        "\r\n",
        "  \r\n",
        "# Store all the pages of the PDF in a variable \r\n",
        "pages = convert_from_path(PDF_file, 2) \r\n",
        "  \r\n",
        "# Counter to store images of each page of PDF to image \r\n",
        "image_counter = 1"
      ],
      "execution_count": null,
      "outputs": []
    },
    {
      "cell_type": "code",
      "metadata": {
        "id": "pr1K8hR8xgA6"
      },
      "source": [
        "# Iterate through all the pages stored above \r\n",
        "for page in pages: \r\n",
        "  \r\n",
        "    # Declaring filename for each page of PDF as JPG \r\n",
        "    # For each page, filename will be: \r\n",
        "    # PDF page 1 -> page_1.jpg \r\n",
        "    # PDF page 2 -> page_2.jpg \r\n",
        "    # PDF page 3 -> page_3.jpg \r\n",
        "    # .... \r\n",
        "    # PDF page n -> page_n.jpg \r\n",
        "    filename = \"page_\"+str(image_counter)+\".jpg\"\r\n",
        "    # Save the image of the page in system \r\n",
        "    page.save(filename, 'JPEG') \r\n",
        "  \r\n",
        "    # Increment the counter to update filename \r\n",
        "    image_counter = image_counter + 1"
      ],
      "execution_count": null,
      "outputs": []
    },
    {
      "cell_type": "code",
      "metadata": {
        "id": "fYlj96VpyS5N"
      },
      "source": [
        "# part 2 Recognizing text from the images using OCR \r\n",
        "\r\n",
        "    \r\n",
        "# Variable to get count of total number of pages \r\n",
        "filelimit = image_counter-1\r\n",
        "  \r\n",
        "# Creating a text file to write the output \r\n",
        "outfile = \"out_text.txt\"\r\n",
        "  \r\n",
        "# Open the file in append mode so that  \r\n",
        "# All contents of all images are added to the same file \r\n",
        "f = open(outfile, \"a\") "
      ],
      "execution_count": null,
      "outputs": []
    },
    {
      "cell_type": "code",
      "metadata": {
        "id": "a3_6IzGqzEdq"
      },
      "source": [
        "# Iterate from 1 to total number of pages \r\n",
        "for i in range(1, filelimit + 1): \r\n",
        "  \r\n",
        "    # Set filename to recognize text from \r\n",
        "    # Again, these files will be: \r\n",
        "    # page_1.jpg \r\n",
        "    # page_2.jpg \r\n",
        "    # .... \r\n",
        "    # page_n.jpg \r\n",
        "    filename = \"page_\"+str(i)+\".jpg\"\r\n",
        "          \r\n",
        "    # Recognize the text as string in image using pytesserct \r\n",
        "    text = str(((pytesseract.image_to_string(Image.open(filename))))) \r\n",
        "  \r\n",
        "    # The recognized text is stored in variable text \r\n",
        "    # Any string processing may be applied on text \r\n",
        "    # Here, basic formatting has been done: \r\n",
        "    # In many PDFs, at line ending, if a word can't \r\n",
        "    # be written fully, a 'hyphen' is added. \r\n",
        "    # The rest of the word is written in the next line \r\n",
        "    # Eg: This is a sample text this word here GeeksF- \r\n",
        "    # orGeeks is half on first line, remaining on next. \r\n",
        "    # To remove this, we replace every '-\\n' to ''. \r\n",
        "    text = text.replace('-\\n', '')     \r\n",
        "  \r\n",
        "    # Finally, write the processed text to the file. \r\n",
        "    f.write(text) "
      ],
      "execution_count": null,
      "outputs": []
    },
    {
      "cell_type": "code",
      "metadata": {
        "id": "vuUJcDg2zFzN"
      },
      "source": [
        "# Close the file after writing all the text. \r\n",
        "f.close() "
      ],
      "execution_count": null,
      "outputs": []
    }
  ]
}