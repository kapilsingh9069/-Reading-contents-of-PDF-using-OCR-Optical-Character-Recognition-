{
  "nbformat": 4,
  "nbformat_minor": 0,
  "metadata": {
    "colab": {
      "name": " Reading contents of PDF using OCR (Optical Character Recognition).ipynb",
      "provenance": [],
      "collapsed_sections": [],
      "authorship_tag": "ABX9TyNRuEwqfMFStyDjrJgLqBQl",
      "include_colab_link": true
    },
    "kernelspec": {
      "name": "python3",
      "display_name": "Python 3"
    }
  },
  "cells": [
    {
      "cell_type": "markdown",
      "metadata": {
        "id": "view-in-github",
        "colab_type": "text"
      },
      "source": [
        "<a href=\"https://colab.research.google.com/github/kapilsingh9069/Reading-contents-of-PDF-using-OCR-Optical-Character-Recognition-/blob/main/Reading_contents_of_PDF_using_OCR_(Optical_Character_Recognition).ipynb\" target=\"_parent\"><img src=\"https://colab.research.google.com/assets/colab-badge.svg\" alt=\"Open In Colab\"/></a>"
      ]
    },
    {
      "cell_type": "code",
      "metadata": {
        "id": "NcqiGt1TCHf9"
      },
      "source": [
        "# Import libraries \r\n",
        "from PIL import Image \r\n",
        "import pytesseract \r\n",
        "import sys \r\n",
        "from pdf2image import convert_from_path \r\n",
        "import os\r\n"
      ],
      "execution_count": null,
      "outputs": []
    },
    {
      "cell_type": "code",
      "metadata": {
        "id": "0kfGT2Chx_Go"
      },
      "source": [
        "# Path of the pdf \r\n",
        "PDF_file = \"assignment-1.2.pdf\""
      ],
      "execution_count": null,
      "outputs": []
    },
    {
      "cell_type": "code",
      "metadata": {
        "id": "2AGt6b2jyGCG"
      },
      "source": [
        "\r\n",
        "#part 1 : Converting PDF to images \r\n",
        "\r\n",
        "  \r\n",
        "# Store all the pages of the PDF in a variable \r\n",
        "pages = convert_from_path(PDF_file, 2) \r\n",
        "  \r\n",
        "# Counter to store images of each page of PDF to image \r\n",
        "image_counter = 1"
      ],
      "execution_count": null,
      "outputs": []
    },
    {
      "cell_type": "code",
      "metadata": {
        "id": "pr1K8hR8xgA6"
      },
      "source": [
        "# Iterate through all the pages stored above \r\n",
        "for page in pages: \r\n",
        "  \r\n",
        "    # Declaring filename for each page of PDF as JPG \r\n",
        "    # For each page, filename will be: \r\n",
        "    # PDF page 1 -> page_1.jpg \r\n",
        "    # PDF page 2 -> page_2.jpg \r\n",
        "    # PDF page 3 -> page_3.jpg \r\n",
        "    # .... \r\n",
        "    # PDF page n -> page_n.jpg \r\n",
        "    filename = \"page_\"+str(image_counter)+\".jpg\"\r\n",
        "    # Save the image of the page in system \r\n",
        "    page.save(filename, 'JPEG') \r\n",
        "  \r\n",
        "    # Increment the counter to update filename \r\n",
        "    image_counter = image_counter + 1"
      ],
      "execution_count": null,
      "outputs": []
    },
    {
      "cell_type": "code",
      "metadata": {
        "id": "fYlj96VpyS5N"
      },
      "source": [
        "# part 2 Recognizing text from the images using OCR \r\n",
        "\r\n",
        "    \r\n",
        "# Variable to get count of total number of pages \r\n",
        "filelimit = image_counter-1\r\n",
        "  \r\n",
        "# Creating a text file to write the output \r\n",
        "outfile = \"out_text.txt\"\r\n",
        "  \r\n",
        "# Open the file in append mode so that  \r\n",
        "# All contents of all images are added to the same file \r\n",
        "f = open(outfile, \"a\") "
      ],
      "execution_count": null,
      "outputs": []
    },
    {
      "cell_type": "code",
      "metadata": {
        "id": "a3_6IzGqzEdq"
      },
      "source": [
        "# Iterate from 1 to total number of pages \r\n",
        "for i in range(1, filelimit + 1): \r\n",
        "  \r\n",
        "    # Set filename to recognize text from \r\n",
        "    # Again, these files will be: \r\n",
        "    # page_1.jpg \r\n",
        "    # page_2.jpg \r\n",
        "    # .... \r\n",
        "    # page_n.jpg \r\n",
        "    filename = \"page_\"+str(i)+\".jpg\"\r\n",
        "          \r\n",
        "    # Recognize the text as string in image using pytesserct \r\n",
        "    text = str(((pytesseract.image_to_string(Image.open(filename))))) \r\n",
        "  \r\n",
        "    # The recognized text is stored in variable text \r\n",
        "    # Any string processing may be applied on text \r\n",
        "    # Here, basic formatting has been done: \r\n",
        "    # In many PDFs, at line ending, if a word can't \r\n",
        "    # be written fully, a 'hyphen' is added. \r\n",
        "    # The rest of the word is written in the next line \r\n",
        "    # Eg: This is a sample text this word here GeeksF- \r\n",
        "    # orGeeks is half on first line, remaining on next. \r\n",
        "    # To remove this, we replace every '-\\n' to ''. \r\n",
        "    text = text.replace('-\\n', '')     \r\n",
        "  \r\n",
        "    # Finally, write the processed text to the file. \r\n",
        "    f.write(text) "
      ],
      "execution_count": null,
      "outputs": []
    },
    {
      "cell_type": "code",
      "metadata": {
        "id": "vuUJcDg2zFzN"
      },
      "source": [
        "# Close the file after writing all the text. \r\n",
        "f.close() "
      ],
      "execution_count": null,
      "outputs": []
    }
  ]
}